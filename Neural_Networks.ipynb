{
 "cells": [
  {
   "cell_type": "code",
   "execution_count": 1,
   "metadata": {},
   "outputs": [],
   "source": [
    "#Setting the path\n",
    "path = \"C:\\\\Users\\\\shwet\\\\Desktop\\\\archive\\\\fruits-360_dataset\\\\fruits-360\\\\Training\"\n"
   ]
  },
  {
   "cell_type": "code",
   "execution_count": 2,
   "metadata": {},
   "outputs": [],
   "source": [
    "#importing the libraries\n",
    "import os\n",
    "import cv2"
   ]
  },
  {
   "cell_type": "code",
   "execution_count": 3,
   "metadata": {},
   "outputs": [],
   "source": [
    "myList=os.listdir(path) #list of all classes"
   ]
  },
  {
   "cell_type": "code",
   "execution_count": 4,
   "metadata": {},
   "outputs": [],
   "source": [
    "noOfClasses=len(myList) #number of classes"
   ]
  },
  {
   "cell_type": "code",
   "execution_count": 5,
   "metadata": {},
   "outputs": [
    {
     "data": {
      "text/plain": [
       "['Apple Braeburn',\n",
       " 'Apple Crimson Snow',\n",
       " 'Apple Golden 1',\n",
       " 'Apple Golden 2',\n",
       " 'Apple Golden 3',\n",
       " 'Apple Granny Smith',\n",
       " 'Apple Pink Lady',\n",
       " 'Apple Red 1',\n",
       " 'Apple Red 2',\n",
       " 'Apple Red 3',\n",
       " 'Apple Red Delicious',\n",
       " 'Apple Red Yellow 1',\n",
       " 'Apple Red Yellow 2',\n",
       " 'Apricot',\n",
       " 'Avocado',\n",
       " 'Avocado ripe',\n",
       " 'Banana',\n",
       " 'Banana Lady Finger',\n",
       " 'Banana Red',\n",
       " 'Beetroot',\n",
       " 'Blueberry',\n",
       " 'Cactus fruit',\n",
       " 'Cantaloupe 1',\n",
       " 'Cantaloupe 2',\n",
       " 'Carambula',\n",
       " 'Cauliflower',\n",
       " 'Cherry 1',\n",
       " 'Cherry 2',\n",
       " 'Cherry Rainier',\n",
       " 'Cherry Wax Black',\n",
       " 'Cherry Wax Red',\n",
       " 'Cherry Wax Yellow',\n",
       " 'Chestnut',\n",
       " 'Clementine',\n",
       " 'Cocos',\n",
       " 'Corn',\n",
       " 'Corn Husk',\n",
       " 'Cucumber Ripe',\n",
       " 'Cucumber Ripe 2',\n",
       " 'Dates',\n",
       " 'Eggplant',\n",
       " 'Fig',\n",
       " 'Ginger Root',\n",
       " 'Granadilla',\n",
       " 'Grape Blue',\n",
       " 'Grape Pink',\n",
       " 'Grape White',\n",
       " 'Grape White 2',\n",
       " 'Grape White 3',\n",
       " 'Grape White 4',\n",
       " 'Grapefruit Pink',\n",
       " 'Grapefruit White',\n",
       " 'Guava',\n",
       " 'Hazelnut',\n",
       " 'Huckleberry',\n",
       " 'Kaki',\n",
       " 'Kiwi',\n",
       " 'Kohlrabi',\n",
       " 'Kumquats',\n",
       " 'Lemon',\n",
       " 'Lemon Meyer',\n",
       " 'Limes',\n",
       " 'Lychee',\n",
       " 'Mandarine',\n",
       " 'Mango',\n",
       " 'Mango Red',\n",
       " 'Mangostan',\n",
       " 'Maracuja',\n",
       " 'Melon Piel de Sapo',\n",
       " 'Mulberry',\n",
       " 'Nectarine',\n",
       " 'Nectarine Flat',\n",
       " 'Nut Forest',\n",
       " 'Nut Pecan',\n",
       " 'Onion Red',\n",
       " 'Onion Red Peeled',\n",
       " 'Onion White',\n",
       " 'Orange',\n",
       " 'Papaya',\n",
       " 'Passion Fruit',\n",
       " 'Peach',\n",
       " 'Peach 2',\n",
       " 'Peach Flat',\n",
       " 'Pear',\n",
       " 'Pear 2',\n",
       " 'Pear Abate',\n",
       " 'Pear Forelle',\n",
       " 'Pear Kaiser',\n",
       " 'Pear Monster',\n",
       " 'Pear Red',\n",
       " 'Pear Stone',\n",
       " 'Pear Williams',\n",
       " 'Pepino',\n",
       " 'Pepper Green',\n",
       " 'Pepper Orange',\n",
       " 'Pepper Red',\n",
       " 'Pepper Yellow',\n",
       " 'Physalis',\n",
       " 'Physalis with Husk',\n",
       " 'Pineapple',\n",
       " 'Pineapple Mini',\n",
       " 'Pitahaya Red',\n",
       " 'Plum',\n",
       " 'Plum 2',\n",
       " 'Plum 3',\n",
       " 'Pomegranate',\n",
       " 'Pomelo Sweetie',\n",
       " 'Potato Red',\n",
       " 'Potato Red Washed',\n",
       " 'Potato Sweet',\n",
       " 'Potato White',\n",
       " 'Quince',\n",
       " 'Rambutan',\n",
       " 'Raspberry',\n",
       " 'Redcurrant',\n",
       " 'Salak',\n",
       " 'Strawberry',\n",
       " 'Strawberry Wedge',\n",
       " 'Tamarillo',\n",
       " 'Tangelo',\n",
       " 'Tomato 1',\n",
       " 'Tomato 2',\n",
       " 'Tomato 3',\n",
       " 'Tomato 4',\n",
       " 'Tomato Cherry Red',\n",
       " 'Tomato Heart',\n",
       " 'Tomato Maroon',\n",
       " 'Tomato not Ripened',\n",
       " 'Tomato Yellow',\n",
       " 'Walnut',\n",
       " 'Watermelon']"
      ]
     },
     "execution_count": 5,
     "metadata": {},
     "output_type": "execute_result"
    }
   ],
   "source": [
    "myList"
   ]
  },
  {
   "cell_type": "code",
   "execution_count": 6,
   "metadata": {},
   "outputs": [
    {
     "data": {
      "text/plain": [
       "131"
      ]
     },
     "execution_count": 6,
     "metadata": {},
     "output_type": "execute_result"
    }
   ],
   "source": [
    "noOfClasses"
   ]
  },
  {
   "cell_type": "code",
   "execution_count": 7,
   "metadata": {},
   "outputs": [
    {
     "name": "stdout",
     "output_type": "stream",
     "text": [
      "Importing classes....\n",
      "Class  0 :  Apple Braeburn\n",
      "Class  1 :  Apple Crimson Snow\n",
      "Class  2 :  Apple Golden 1\n",
      "Class  3 :  Apple Golden 2\n",
      "Class  4 :  Apple Golden 3\n",
      "Class  5 :  Apple Granny Smith\n",
      "Class  6 :  Apple Pink Lady\n",
      "Class  7 :  Apple Red 1\n",
      "Class  8 :  Apple Red 2\n",
      "Class  9 :  Apple Red 3\n",
      "Class  10 :  Apple Red Delicious\n",
      "Class  11 :  Apple Red Yellow 1\n",
      "Class  12 :  Apple Red Yellow 2\n",
      "Class  13 :  Apricot\n",
      "Class  14 :  Avocado\n",
      "Class  15 :  Avocado ripe\n",
      "Class  16 :  Banana\n",
      "Class  17 :  Banana Lady Finger\n",
      "Class  18 :  Banana Red\n",
      "Class  19 :  Beetroot\n",
      "Class  20 :  Blueberry\n",
      "Class  21 :  Cactus fruit\n",
      "Class  22 :  Cantaloupe 1\n",
      "Class  23 :  Cantaloupe 2\n",
      "Class  24 :  Carambula\n",
      "Class  25 :  Cauliflower\n",
      "Class  26 :  Cherry 1\n",
      "Class  27 :  Cherry 2\n",
      "Class  28 :  Cherry Rainier\n",
      "Class  29 :  Cherry Wax Black\n",
      "Class  30 :  Cherry Wax Red\n",
      "Class  31 :  Cherry Wax Yellow\n",
      "Class  32 :  Chestnut\n",
      "Class  33 :  Clementine\n",
      "Class  34 :  Cocos\n",
      "Class  35 :  Corn\n",
      "Class  36 :  Corn Husk\n",
      "Class  37 :  Cucumber Ripe\n",
      "Class  38 :  Cucumber Ripe 2\n",
      "Class  39 :  Dates\n",
      "Class  40 :  Eggplant\n",
      "Class  41 :  Fig\n",
      "Class  42 :  Ginger Root\n",
      "Class  43 :  Granadilla\n",
      "Class  44 :  Grape Blue\n",
      "Class  45 :  Grape Pink\n",
      "Class  46 :  Grape White\n",
      "Class  47 :  Grape White 2\n",
      "Class  48 :  Grape White 3\n",
      "Class  49 :  Grape White 4\n",
      "Class  50 :  Grapefruit Pink\n",
      "Class  51 :  Grapefruit White\n",
      "Class  52 :  Guava\n",
      "Class  53 :  Hazelnut\n",
      "Class  54 :  Huckleberry\n",
      "Class  55 :  Kaki\n",
      "Class  56 :  Kiwi\n",
      "Class  57 :  Kohlrabi\n",
      "Class  58 :  Kumquats\n",
      "Class  59 :  Lemon\n",
      "Class  60 :  Lemon Meyer\n",
      "Class  61 :  Limes\n",
      "Class  62 :  Lychee\n",
      "Class  63 :  Mandarine\n",
      "Class  64 :  Mango\n",
      "Class  65 :  Mango Red\n",
      "Class  66 :  Mangostan\n",
      "Class  67 :  Maracuja\n",
      "Class  68 :  Melon Piel de Sapo\n",
      "Class  69 :  Mulberry\n",
      "Class  70 :  Nectarine\n",
      "Class  71 :  Nectarine Flat\n",
      "Class  72 :  Nut Forest\n",
      "Class  73 :  Nut Pecan\n",
      "Class  74 :  Onion Red\n",
      "Class  75 :  Onion Red Peeled\n",
      "Class  76 :  Onion White\n",
      "Class  77 :  Orange\n",
      "Class  78 :  Papaya\n",
      "Class  79 :  Passion Fruit\n",
      "Class  80 :  Peach\n",
      "Class  81 :  Peach 2\n",
      "Class  82 :  Peach Flat\n",
      "Class  83 :  Pear\n",
      "Class  84 :  Pear 2\n",
      "Class  85 :  Pear Abate\n",
      "Class  86 :  Pear Forelle\n",
      "Class  87 :  Pear Kaiser\n",
      "Class  88 :  Pear Monster\n",
      "Class  89 :  Pear Red\n",
      "Class  90 :  Pear Stone\n",
      "Class  91 :  Pear Williams\n",
      "Class  92 :  Pepino\n",
      "Class  93 :  Pepper Green\n",
      "Class  94 :  Pepper Orange\n",
      "Class  95 :  Pepper Red\n",
      "Class  96 :  Pepper Yellow\n",
      "Class  97 :  Physalis\n",
      "Class  98 :  Physalis with Husk\n",
      "Class  99 :  Pineapple\n",
      "Class  100 :  Pineapple Mini\n",
      "Class  101 :  Pitahaya Red\n",
      "Class  102 :  Plum\n",
      "Class  103 :  Plum 2\n",
      "Class  104 :  Plum 3\n",
      "Class  105 :  Pomegranate\n",
      "Class  106 :  Pomelo Sweetie\n",
      "Class  107 :  Potato Red\n",
      "Class  108 :  Potato Red Washed\n",
      "Class  109 :  Potato Sweet\n",
      "Class  110 :  Potato White\n",
      "Class  111 :  Quince\n",
      "Class  112 :  Rambutan\n",
      "Class  113 :  Raspberry\n",
      "Class  114 :  Redcurrant\n",
      "Class  115 :  Salak\n",
      "Class  116 :  Strawberry\n",
      "Class  117 :  Strawberry Wedge\n",
      "Class  118 :  Tamarillo\n",
      "Class  119 :  Tangelo\n",
      "Class  120 :  Tomato 1\n",
      "Class  121 :  Tomato 2\n",
      "Class  122 :  Tomato 3\n",
      "Class  123 :  Tomato 4\n",
      "Class  124 :  Tomato Cherry Red\n",
      "Class  125 :  Tomato Heart\n",
      "Class  126 :  Tomato Maroon\n",
      "Class  127 :  Tomato not Ripened\n",
      "Class  128 :  Tomato Yellow\n",
      "Class  129 :  Walnut\n",
      "Class  130 :  Watermelon\n"
     ]
    }
   ],
   "source": [
    "images=[]\n",
    "classNo=[]\n",
    "all_Classes = os.listdir(path) \n",
    "i=0\n",
    "print(\"Importing classes....\")\n",
    "for cl in all_Classes:\n",
    "    for img in os.listdir(f'{path}/{cl}'):\n",
    "        fruit=cv2.imread(f'{path}/{cl}/{img}')\n",
    "        images.append(fruit)\n",
    "        classNo.append(i)\n",
    "    print(\"Class \",i,\": \",cl,)    \n",
    "    i=i+1    "
   ]
  },
  {
   "cell_type": "markdown",
   "metadata": {},
   "source": [
    "# Splitting the data in training and testing "
   ]
  },
  {
   "cell_type": "code",
   "execution_count": 8,
   "metadata": {},
   "outputs": [],
   "source": [
    "import numpy as np\n",
    "images=np.array(images)\n",
    "classNo=np.array(classNo)\n",
    "from sklearn.model_selection import train_test_split\n",
    "X_train,X_test,y_train,y_test=train_test_split(images,classNo,test_size=0.2)\n",
    "X_train,X_validation,y_train,y_validation=train_test_split(X_train,y_train,test_size=0.2)"
   ]
  },
  {
   "cell_type": "markdown",
   "metadata": {},
   "source": [
    "Determining the shape of our training set"
   ]
  },
  {
   "cell_type": "code",
   "execution_count": 9,
   "metadata": {},
   "outputs": [
    {
     "data": {
      "text/plain": [
       "(43322, 100, 100, 3)"
      ]
     },
     "execution_count": 9,
     "metadata": {},
     "output_type": "execute_result"
    }
   ],
   "source": [
    "X_train.shape"
   ]
  },
  {
   "cell_type": "markdown",
   "metadata": {},
   "source": [
    "# Preprocessing functions"
   ]
  },
  {
   "cell_type": "code",
   "execution_count": 10,
   "metadata": {},
   "outputs": [],
   "source": [
    "def grayscale(img):\n",
    "    img=cv2.cvtColor(img,cv2.COLOR_BGR2GRAY)\n",
    "    return img\n",
    "def equalize(img):\n",
    "    img=cv2.equalizeHist(img)\n",
    "    return img\n",
    "def preprocessing(img):\n",
    "    img=grayscale(img)\n",
    "    img=equalize(img)\n",
    "    img = cv2.resize(img, (32,32))\n",
    "\n",
    "    img=img/255\n",
    "    return img\n",
    "    "
   ]
  },
  {
   "cell_type": "code",
   "execution_count": 11,
   "metadata": {},
   "outputs": [],
   "source": [
    "X_train=np.array(list(map(preprocessing,X_train)))\n",
    "X_validation=np.array(list(map(preprocessing,X_validation)))\n",
    "X_test=np.array(list(map(preprocessing,X_test)))\n"
   ]
  },
  {
   "cell_type": "code",
   "execution_count": 12,
   "metadata": {},
   "outputs": [
    {
     "data": {
      "text/plain": [
       "(43322, 32, 32)"
      ]
     },
     "execution_count": 12,
     "metadata": {},
     "output_type": "execute_result"
    }
   ],
   "source": [
    "X_train.shape  #new shape of our training set after resizing"
   ]
  },
  {
   "cell_type": "code",
   "execution_count": 13,
   "metadata": {},
   "outputs": [],
   "source": [
    "X_train=X_train.reshape(X_train.shape[0], X_train.shape[1], X_train.shape[2],1)\n",
    "X_validation=X_validation.reshape(X_validation.shape[0], X_validation.shape[1], X_validation.shape[2],1)\n",
    "X_test=X_test.reshape(X_test.shape[0], X_test.shape[1], X_test.shape[2],1)"
   ]
  },
  {
   "cell_type": "code",
   "execution_count": 14,
   "metadata": {},
   "outputs": [
    {
     "data": {
      "text/plain": [
       "(13539, 32, 32, 1)"
      ]
     },
     "execution_count": 14,
     "metadata": {},
     "output_type": "execute_result"
    }
   ],
   "source": [
    "X_test.shape  #new shape of our testing set after resizing"
   ]
  },
  {
   "cell_type": "code",
   "execution_count": 15,
   "metadata": {},
   "outputs": [],
   "source": [
    "from keras.utils.np_utils import to_categorical #library which converts a class vector (integers) to binary class matrix"
   ]
  },
  {
   "cell_type": "code",
   "execution_count": 16,
   "metadata": {},
   "outputs": [
    {
     "data": {
      "text/plain": [
       "(43322,)"
      ]
     },
     "execution_count": 16,
     "metadata": {},
     "output_type": "execute_result"
    }
   ],
   "source": [
    "y_train.shape       #checking the shape of our testing dataset"
   ]
  },
  {
   "cell_type": "code",
   "execution_count": 17,
   "metadata": {},
   "outputs": [],
   "source": [
    "y_train=to_categorical(y_train,noOfClasses)    #converts a vectors (integers) in y_train to binary class matrix"
   ]
  },
  {
   "cell_type": "code",
   "execution_count": 18,
   "metadata": {},
   "outputs": [
    {
     "data": {
      "text/plain": [
       "(43322, 131)"
      ]
     },
     "execution_count": 18,
     "metadata": {},
     "output_type": "execute_result"
    }
   ],
   "source": [
    "y_train.shape                                  #checking the shape of y_train"
   ]
  },
  {
   "cell_type": "code",
   "execution_count": 20,
   "metadata": {},
   "outputs": [],
   "source": [
    "y_test=to_categorical(y_test,noOfClasses)      #converts a vectors (integers) in y_test to binary class matrix"
   ]
  },
  {
   "cell_type": "markdown",
   "metadata": {},
   "source": [
    "# Importing libraries"
   ]
  },
  {
   "cell_type": "code",
   "execution_count": 21,
   "metadata": {},
   "outputs": [],
   "source": [
    "from keras.models import Sequential\n",
    "from keras.layers import Dense, Dropout, Flatten\n",
    "# from keras.optimizers import Adam\n",
    "from tensorflow.keras.optimizers import Adam\n"
   ]
  },
  {
   "cell_type": "code",
   "execution_count": 22,
   "metadata": {},
   "outputs": [],
   "source": [
    "import keras\n",
    "import tensorflow"
   ]
  },
  {
   "cell_type": "code",
   "execution_count": 23,
   "metadata": {},
   "outputs": [],
   "source": [
    "def myModel():\n",
    "    model=Sequential()\n",
    "    model.add(Dense(12,input_shape=(32,32,1),activation=\"relu\"))\n",
    "    model.add(Dense(12,activation=\"relu\"))\n",
    "    model.add(Dropout(0.5))\n",
    "    model.add(Flatten())\n",
    "    #model.add(Dense(200,activation=\"relu\"))\n",
    "    #model.add(Dropout(0.5))\n",
    "    model.add(Dense(131,activation=\"softmax\"))\n",
    "    model.compile(Adam(lr=0.001),loss=\"categorical_crossentropy\",metrics=[\"accuracy\"])\n",
    "    return model\n",
    "    \n",
    "    "
   ]
  },
  {
   "cell_type": "code",
   "execution_count": 24,
   "metadata": {},
   "outputs": [],
   "source": [
    "model = myModel()"
   ]
  },
  {
   "cell_type": "markdown",
   "metadata": {},
   "source": [
    "# Fitting the model"
   ]
  },
  {
   "cell_type": "code",
   "execution_count": 33,
   "metadata": {},
   "outputs": [
    {
     "name": "stdout",
     "output_type": "stream",
     "text": [
      "Epoch 1/12\n",
      "1354/1354 [==============================] - 30s 22ms/step - loss: 2.6711 - accuracy: 0.3810\n",
      "Epoch 2/12\n",
      "1354/1354 [==============================] - 30s 22ms/step - loss: 0.6248 - accuracy: 0.8227\n",
      "Epoch 3/12\n",
      "1354/1354 [==============================] - 29s 21ms/step - loss: 0.3704 - accuracy: 0.8875\n",
      "Epoch 4/12\n",
      "1354/1354 [==============================] - 29s 22ms/step - loss: 0.2757 - accuracy: 0.9156\n",
      "Epoch 5/12\n",
      "1354/1354 [==============================] - 30s 22ms/step - loss: 0.2210 - accuracy: 0.9307\n",
      "Epoch 6/12\n",
      "1354/1354 [==============================] - 29s 22ms/step - loss: 0.1960 - accuracy: 0.9369\n",
      "Epoch 7/12\n",
      "1354/1354 [==============================] - 30s 22ms/step - loss: 0.1583 - accuracy: 0.9475\n",
      "Epoch 8/12\n",
      "1354/1354 [==============================] - 29s 22ms/step - loss: 0.1426 - accuracy: 0.9544\n",
      "Epoch 9/12\n",
      "1354/1354 [==============================] - 30s 22ms/step - loss: 0.1327 - accuracy: 0.9578\n",
      "Epoch 10/12\n",
      "1354/1354 [==============================] - 29s 22ms/step - loss: 0.1282 - accuracy: 0.9588\n",
      "Epoch 11/12\n",
      "1354/1354 [==============================] - 29s 22ms/step - loss: 0.1176 - accuracy: 0.9615\n",
      "Epoch 12/12\n",
      "1354/1354 [==============================] - 31s 23ms/step - loss: 0.1117 - accuracy: 0.9635\n"
     ]
    },
    {
     "data": {
      "text/plain": [
       "<tensorflow.python.keras.callbacks.History at 0x135aa98dc10>"
      ]
     },
     "execution_count": 33,
     "metadata": {},
     "output_type": "execute_result"
    }
   ],
   "source": [
    "model.fit(X_train, y_train, epochs=12)"
   ]
  },
  {
   "cell_type": "markdown",
   "metadata": {},
   "source": [
    "# Saving our model"
   ]
  },
  {
   "cell_type": "code",
   "execution_count": 34,
   "metadata": {},
   "outputs": [],
   "source": [
    "from tensorflow.keras.models import save_model, load_model\n",
    "model.save('shweta_model2.h5')"
   ]
  },
  {
   "cell_type": "markdown",
   "metadata": {},
   "source": [
    "# Checking loss and accuracy of our model"
   ]
  },
  {
   "cell_type": "code",
   "execution_count": 35,
   "metadata": {},
   "outputs": [
    {
     "name": "stdout",
     "output_type": "stream",
     "text": [
      "424/424 [==============================] - 2s 5ms/step - loss: 0.0625 - accuracy: 0.9815\n"
     ]
    }
   ],
   "source": [
    "test_loss , test_acc = model.evaluate(X_test,y_test)"
   ]
  },
  {
   "cell_type": "markdown",
   "metadata": {},
   "source": [
    "# Precision, recall and F1 scores"
   ]
  },
  {
   "cell_type": "code",
   "execution_count": 40,
   "metadata": {},
   "outputs": [
    {
     "name": "stdout",
     "output_type": "stream",
     "text": [
      "                     precision    recall  f1-score   support\n",
      "\n",
      "     Apple Braeburn       1.00      1.00      1.00        99\n",
      " Apple Crimson Snow       0.99      1.00      0.99        90\n",
      "     Apple Golden 1       1.00      1.00      1.00       101\n",
      "     Apple Golden 2       1.00      1.00      1.00        94\n",
      "     Apple Golden 3       0.97      1.00      0.98        85\n",
      " Apple Granny Smith       0.98      0.99      0.98        98\n",
      "    Apple Pink Lady       1.00      0.99      0.99        76\n",
      "        Apple Red 1       0.99      1.00      1.00       102\n",
      "        Apple Red 2       0.99      0.97      0.98       108\n",
      "        Apple Red 3       1.00      0.97      0.99       102\n",
      "Apple Red Delicious       1.00      1.00      1.00        96\n",
      " Apple Red Yellow 1       1.00      1.00      1.00       115\n",
      " Apple Red Yellow 2       1.00      0.99      1.00       135\n",
      "            Apricot       0.99      0.96      0.97        95\n",
      "            Avocado       1.00      0.99      0.99        84\n",
      "       Avocado ripe       0.97      1.00      0.98       112\n",
      "             Banana       1.00      0.98      0.99        96\n",
      " Banana Lady Finger       1.00      0.99      0.99        91\n",
      "         Banana Red       0.97      1.00      0.98       111\n",
      "           Beetroot       0.95      0.99      0.97        84\n",
      "          Blueberry       0.99      1.00      1.00       118\n",
      "       Cactus fruit       0.99      0.93      0.96        88\n",
      "       Cantaloupe 1       1.00      1.00      1.00        99\n",
      "       Cantaloupe 2       0.98      1.00      0.99       100\n",
      "          Carambula       1.00      0.98      0.99       106\n",
      "        Cauliflower       1.00      1.00      1.00       136\n",
      "           Cherry 1       1.00      1.00      1.00       100\n",
      "           Cherry 2       0.98      1.00      0.99       161\n",
      "     Cherry Rainier       1.00      1.00      1.00       147\n",
      "   Cherry Wax Black       1.00      1.00      1.00       109\n",
      "     Cherry Wax Red       1.00      0.99      0.99        94\n",
      "  Cherry Wax Yellow       0.98      1.00      0.99       102\n",
      "           Chestnut       0.99      0.97      0.98        97\n",
      "         Clementine       1.00      1.00      1.00       102\n",
      "              Cocos       0.99      0.97      0.98        80\n",
      "               Corn       0.99      0.98      0.98        90\n",
      "          Corn Husk       1.00      1.00      1.00        95\n",
      "      Cucumber Ripe       0.96      0.97      0.97        78\n",
      "    Cucumber Ripe 2       1.00      0.99      0.99        95\n",
      "              Dates       1.00      0.88      0.93       104\n",
      "           Eggplant       1.00      1.00      1.00        86\n",
      "                Fig       1.00      0.96      0.98       144\n",
      "        Ginger Root       0.91      0.98      0.95        54\n",
      "         Granadilla       0.97      1.00      0.98        93\n",
      "         Grape Blue       0.77      1.00      0.87       192\n",
      "         Grape Pink       0.99      1.00      0.99        85\n",
      "        Grape White       1.00      0.99      0.99       100\n",
      "      Grape White 2       1.00      1.00      1.00       102\n",
      "      Grape White 3       1.00      1.00      1.00       102\n",
      "      Grape White 4       1.00      0.48      0.65        89\n",
      "    Grapefruit Pink       0.98      1.00      0.99       109\n",
      "   Grapefruit White       1.00      1.00      1.00        92\n",
      "              Guava       0.85      1.00      0.92        86\n",
      "           Hazelnut       0.88      1.00      0.93        92\n",
      "        Huckleberry       1.00      1.00      1.00       100\n",
      "               Kaki       1.00      1.00      1.00        94\n",
      "               Kiwi       1.00      1.00      1.00        89\n",
      "           Kohlrabi       0.99      1.00      0.99        94\n",
      "           Kumquats       1.00      0.89      0.94       108\n",
      "              Lemon       0.98      1.00      0.99        93\n",
      "        Lemon Meyer       0.99      1.00      0.99        94\n",
      "              Limes       0.99      1.00      1.00       102\n",
      "             Lychee       1.00      1.00      1.00        97\n",
      "          Mandarine       1.00      0.99      0.99        83\n",
      "              Mango       0.99      1.00      0.99        92\n",
      "          Mango Red       0.99      1.00      0.99        75\n",
      "          Mangostan       1.00      0.99      0.99        67\n",
      "           Maracuja       1.00      1.00      1.00        81\n",
      " Melon Piel de Sapo       0.99      1.00      1.00       149\n",
      "           Mulberry       0.88      0.99      0.93        86\n",
      "          Nectarine       0.99      1.00      0.99        91\n",
      "     Nectarine Flat       0.98      0.99      0.98        89\n",
      "         Nut Forest       1.00      0.95      0.97       147\n",
      "          Nut Pecan       0.95      0.96      0.96       105\n",
      "          Onion Red       1.00      0.91      0.95        98\n",
      "   Onion Red Peeled       1.00      0.92      0.96        95\n",
      "        Onion White       0.99      1.00      0.99        85\n",
      "             Orange       0.94      1.00      0.97        79\n",
      "             Papaya       0.99      1.00      1.00       106\n",
      "      Passion Fruit       1.00      1.00      1.00        97\n",
      "              Peach       0.97      1.00      0.98        91\n",
      "            Peach 2       1.00      1.00      1.00       152\n",
      "         Peach Flat       0.99      1.00      1.00       101\n",
      "               Pear       1.00      0.95      0.97        99\n",
      "             Pear 2       0.96      0.99      0.98       150\n",
      "         Pear Abate       1.00      1.00      1.00       109\n",
      "       Pear Forelle       0.99      0.98      0.98       144\n",
      "        Pear Kaiser       1.00      1.00      1.00        57\n",
      "       Pear Monster       0.99      0.97      0.98        95\n",
      "           Pear Red       0.99      0.98      0.98       131\n",
      "         Pear Stone       1.00      0.98      0.99       166\n",
      "      Pear Williams       1.00      1.00      1.00       108\n",
      "             Pepino       1.00      0.97      0.98        98\n",
      "       Pepper Green       0.99      1.00      0.99        78\n",
      "      Pepper Orange       0.99      1.00      0.99       133\n",
      "         Pepper Red       0.99      0.97      0.98       143\n",
      "      Pepper Yellow       0.99      1.00      0.99       133\n",
      "           Physalis       1.00      1.00      1.00        96\n",
      " Physalis with Husk       0.97      1.00      0.99        67\n",
      "          Pineapple       1.00      0.98      0.99       106\n",
      "     Pineapple Mini       1.00      1.00      1.00        88\n",
      "       Pitahaya Red       1.00      0.99      1.00       101\n",
      "               Plum       1.00      1.00      1.00        76\n",
      "             Plum 2       1.00      1.00      1.00        79\n",
      "             Plum 3       0.98      0.99      0.98       203\n",
      "        Pomegranate       1.00      0.98      0.99        95\n",
      "     Pomelo Sweetie       0.98      1.00      0.99        87\n",
      "         Potato Red       0.92      0.98      0.95        95\n",
      "  Potato Red Washed       0.98      0.87      0.92        70\n",
      "       Potato Sweet       1.00      0.69      0.82        81\n",
      "       Potato White       0.91      0.98      0.94       103\n",
      "             Quince       1.00      0.97      0.98        96\n",
      "           Rambutan       1.00      0.87      0.93        89\n",
      "          Raspberry       0.97      1.00      0.98        87\n",
      "         Redcurrant       1.00      1.00      1.00        89\n",
      "              Salak       0.99      1.00      1.00       110\n",
      "         Strawberry       1.00      0.97      0.98        95\n",
      "   Strawberry Wedge       0.89      1.00      0.94       124\n",
      "          Tamarillo       0.97      0.99      0.98        87\n",
      "            Tangelo       1.00      1.00      1.00        88\n",
      "           Tomato 1       1.00      1.00      1.00       158\n",
      "           Tomato 2       1.00      0.93      0.96       147\n",
      "           Tomato 3       0.99      1.00      1.00       135\n",
      "           Tomato 4       1.00      1.00      1.00        98\n",
      "  Tomato Cherry Red       1.00      1.00      1.00       105\n",
      "       Tomato Heart       0.95      1.00      0.97       132\n",
      "      Tomato Maroon       1.00      1.00      1.00        81\n",
      " Tomato not Ripened       1.00      1.00      1.00       106\n",
      "      Tomato Yellow       0.97      1.00      0.99       112\n",
      "             Walnut       0.99      1.00      0.99       148\n",
      "         Watermelon       1.00      0.99      1.00       120\n",
      "\n",
      "           accuracy                           0.98     13539\n",
      "          macro avg       0.98      0.98      0.98     13539\n",
      "       weighted avg       0.98      0.98      0.98     13539\n",
      "\n"
     ]
    }
   ],
   "source": [
    "from sklearn.metrics import classification_report\n",
    "predictions = model.predict(X_test, batch_size=10)\n",
    "print(classification_report(y_test.argmax(axis=1), predictions.argmax(axis=1), target_names=myList))"
   ]
  },
  {
   "cell_type": "markdown",
   "metadata": {},
   "source": [
    "# Loading our model"
   ]
  },
  {
   "cell_type": "code",
   "execution_count": 36,
   "metadata": {},
   "outputs": [],
   "source": [
    "from tensorflow.keras.models import save_model, load_model\n",
    "mod = load_model(\"C:\\\\Users\\\\shwet\\\\Desktop\\\\Neural\\\\shweta_model2.h5\")"
   ]
  },
  {
   "cell_type": "markdown",
   "metadata": {},
   "source": [
    "# Checking our model accuracy again"
   ]
  },
  {
   "cell_type": "code",
   "execution_count": 37,
   "metadata": {},
   "outputs": [
    {
     "name": "stdout",
     "output_type": "stream",
     "text": [
      "424/424 [==============================] - 3s 5ms/step - loss: 0.0625 - accuracy: 0.9815\n"
     ]
    }
   ],
   "source": [
    "test_loss , test_acc = mod.evaluate(X_test,y_test)"
   ]
  },
  {
   "cell_type": "code",
   "execution_count": null,
   "metadata": {},
   "outputs": [],
   "source": []
  }
 ],
 "metadata": {
  "kernelspec": {
   "display_name": "Python 3",
   "language": "python",
   "name": "python3"
  },
  "language_info": {
   "codemirror_mode": {
    "name": "ipython",
    "version": 3
   },
   "file_extension": ".py",
   "mimetype": "text/x-python",
   "name": "python",
   "nbconvert_exporter": "python",
   "pygments_lexer": "ipython3",
   "version": "3.8.5"
  }
 },
 "nbformat": 4,
 "nbformat_minor": 4
}
